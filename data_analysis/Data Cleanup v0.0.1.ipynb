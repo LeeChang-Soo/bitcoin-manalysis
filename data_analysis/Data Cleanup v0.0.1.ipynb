{
 "cells": [
  {
   "cell_type": "markdown",
   "metadata": {},
   "source": [
    "# Impact of news on the Bitcoin price\n",
    "\n",
    "    @version: 0.1.0\n",
    "    @description: This purpose of this notebook is the pre-processing of the raw data collected from the news sources.\n"
   ]
  },
  {
   "cell_type": "code",
   "execution_count": 1,
   "metadata": {
    "collapsed": true
   },
   "outputs": [],
   "source": [
    "# Importing the necessary libraries\n",
    "import pandas as pd\n",
    "import matplotlib.pyplot as plt\n",
    "import matplotlib as mpl\n",
    "from pandas.io.json import json_normalize\n",
    "\n",
    "# Enable inline plotting\n",
    "# (to draw the figures inside \n",
    "# the notebook instead launching\n",
    "# a python window)\n",
    "%matplotlib inline"
   ]
  },
  {
   "cell_type": "code",
   "execution_count": 10,
   "metadata": {
    "collapsed": false
   },
   "outputs": [],
   "source": [
    "data_location = r'_raw_data/reddit_hot/hot-bitcoin1427836487.05.json'\n",
    "d = pd.read_json(data_location)"
   ]
  },
  {
   "cell_type": "code",
   "execution_count": 18,
   "metadata": {
    "collapsed": false
   },
   "outputs": [
    {
     "name": "stdout",
     "output_type": "stream",
     "text": [
      "after                                               t3_30utvx\n",
      "before                                                   None\n",
      "children    [{u'kind': u't3', u'data': {u'domain': u'self....\n",
      "modhash                                                      \n",
      "Name: data, dtype: object\n"
     ]
    }
   ],
   "source": []
  }
 ],
 "metadata": {
  "kernelspec": {
   "display_name": "Python 2",
   "language": "python",
   "name": "python2"
  },
  "language_info": {
   "codemirror_mode": {
    "name": "ipython",
    "version": 2
   },
   "file_extension": ".py",
   "mimetype": "text/x-python",
   "name": "python",
   "nbconvert_exporter": "python",
   "pygments_lexer": "ipython2",
   "version": "2.7.9"
  }
 },
 "nbformat": 4,
 "nbformat_minor": 0
}
