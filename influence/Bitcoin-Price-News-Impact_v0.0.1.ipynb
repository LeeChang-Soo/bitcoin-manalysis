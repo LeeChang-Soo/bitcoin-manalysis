{
 "cells": [
  {
   "cell_type": "markdown",
   "metadata": {},
   "source": [
    "# The impact of news on Bitcoin price variation"
   ]
  },
  {
   "cell_type": "markdown",
   "metadata": {},
   "source": [
    "This analysis **(a work in progress)** is an attempt to find a corollation between bitcoin related news and the rise or fall of the bitcoin exchange rate (BTC/USD).\n",
    "\n",
    "###DATA\n",
    "####Get the Bitcoin Data\n",
    "Download all the bitcoin price historical data. This can be found in http://api.bitcoincharts.com/v1/csv/\n",
    "In order to get all the available data from all markets, execute the following:\n",
    "\n",
    "    wget -A csv.gz -r -l 1 -nd http://api.bitcoincharts.com/v1/csv/\n",
    "    \n",
    "From this entire bitcoincharts repo, the most comprehensive catalog of data is `btceUSD.csv`.\n",
    "\n",
    "An alternative source of data is Quandl : https://www.quandl.com/c/markets/bitcoin-data\n",
    "\n",
    "####Unzip the package\n",
    "\n",
    "    $: gunzip btceUSD.csv.gz\n",
    "\n",
    "\n"
   ]
  },
  {
   "cell_type": "code",
   "execution_count": 116,
   "metadata": {
    "collapsed": true
   },
   "outputs": [],
   "source": [
    "# Import the necessary shit\n",
    "import pandas as pd\n",
    "import matplotlib.pyplot as plt\n",
    "import matplotlib.dates as dates\n",
    "\n",
    "# Enable inline plotting\n",
    "%matplotlib inline"
   ]
  },
  {
   "cell_type": "code",
   "execution_count": 117,
   "metadata": {
    "collapsed": false
   },
   "outputs": [],
   "source": [
    "# Loading the Bitcoin price data\n",
    "# Format:\n",
    "# EPOCH_TIMESTAMP, PRICE_VALUE, NO_FUCKING_CLUE\n",
    "data_location = r'_raw_data/b7USD.csv'\n",
    "# reading the CSV file while specifying headers (with the param names), \n",
    "# because there aren't any in those csv files\n",
    "raw_data = pd.read_csv(data_location, names=['TimeStamp', 'Price', 'RandV'])"
   ]
  },
  {
   "cell_type": "code",
   "execution_count": 118,
   "metadata": {
    "collapsed": false
   },
   "outputs": [
    {
     "data": {
      "text/plain": [
       "TimeStamp    5492\n",
       "Price        5492\n",
       "RandV        5492\n",
       "dtype: int64"
      ]
     },
     "execution_count": 118,
     "metadata": {},
     "output_type": "execute_result"
    }
   ],
   "source": [
    "raw_data.count()"
   ]
  },
  {
   "cell_type": "code",
   "execution_count": 119,
   "metadata": {
    "collapsed": false
   },
   "outputs": [],
   "source": [
    "# Add a new column DateTime that contains\n",
    "# formatted date/time based on the Epoch \n",
    "# TimeStamp provided in the data set\n",
    "# raw_data['DateTime'] = raw_data['TimeStamp'].apply(lambda x: time.strftime('%d-%m-%Y %H:%M:%S',  time.gmtime(x)))\n",
    "\n",
    "# Another more efficient way of doing the \n",
    "# Timestamp to formatted date conversion\n",
    "# unit='s' is to specify that the timestamp \n",
    "# was stored with the seconds unit\n",
    "raw_data['DateTime'] = pd.to_datetime(raw_data['TimeStamp'], unit='s')"
   ]
  },
  {
   "cell_type": "code",
   "execution_count": 120,
   "metadata": {
    "collapsed": false
   },
   "outputs": [],
   "source": [
    "df1 = pd.DataFrame(raw_data, columns=['DateTime', 'Price'])"
   ]
  },
  {
   "cell_type": "code",
   "execution_count": 122,
   "metadata": {
    "collapsed": false
   },
   "outputs": [
    {
     "data": {
      "text/plain": [
       "<matplotlib.figure.Figure at 0x131af2750>"
      ]
     },
     "metadata": {},
     "output_type": "display_data"
    }
   ],
   "source": [
    "# Defining the plot\n",
    "# and its properties\n",
    "out_fig = plt.figure()\n",
    "\n",
    "# Specifying the first subplot\n",
    "# add_subplot(y axis number of plots, x axis number of plots, current plot selection)\n",
    "btc_val = fig.add_subplot(2, 1, 1)\n",
    "btc_val.plot(df1['DateTime'], df1['Price'])\n",
    "# a = df1.plot(x='DateTime', y='Price', figsize=(15,10))\n",
    "btc_val.xaxis.set_major_locator(dates.MonthLocator(bymonth=range(1,13), bymonthday=1, interval=1))\n",
    "btc_val.xaxis.set_major_formatter(dates.DateFormatter(\"%b '%y\"))\n",
    "\n",
    "out_fig.show()\n",
    "\n",
    "# Layout\n",
    "# plt.set_title(\"Bitcoin Value in USD\", weight=\"bold\", size=18)\n",
    "# a.set_xlabel(\"Month - Year\", size=14)\n",
    "# a.set_ylabel('Bitcoin USD Price', size=14)"
   ]
  }
 ],
 "metadata": {
  "kernelspec": {
   "display_name": "Python 2",
   "language": "python",
   "name": "python2"
  },
  "language_info": {
   "codemirror_mode": {
    "name": "ipython",
    "version": 2
   },
   "file_extension": ".py",
   "mimetype": "text/x-python",
   "name": "python",
   "nbconvert_exporter": "python",
   "pygments_lexer": "ipython2",
   "version": "2.7.9"
  }
 },
 "nbformat": 4,
 "nbformat_minor": 0
}
