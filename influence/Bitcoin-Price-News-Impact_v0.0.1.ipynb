{
 "cells": [
  {
   "cell_type": "markdown",
   "metadata": {},
   "source": [
    "\n",
    "# Impact of news on the Bitcoin price"
   ]
  },
  {
   "cell_type": "markdown",
   "metadata": {},
   "source": [
    "    @version: 0.0.1 \n",
    "    @description: This notebook will read Bitcoin price values and transaction volumes\n",
    "    from CSV files and display a figure showing the relationship between the two.\n",
    "\n",
    "This analysis **(a work in progress)** is an attempt to find a corollation between bitcoin related news and the rise or fall of the bitcoin exchange rate (BTC/USD).\n",
    "\n",
    "###DATA\n",
    "####Get the Bitcoin Data\n",
    "Download all the bitcoin price historical data. This can be found in http://api.bitcoincharts.com/v1/csv/\n",
    "In order to get all the available data from all markets, execute the following:\n",
    "\n",
    "    wget -A csv.gz -r -l 1 -nd http://api.bitcoincharts.com/v1/csv/\n",
    "    \n",
    "From this entire bitcoincharts repo, the most comprehensive catalog of data is `btceUSD.csv`.\n",
    "\n",
    "For the Bitcoin Transactions Volume (in BTC or USD) you can get this data from Quandl through their API\n",
    "\n",
    "    http://www.quandl.com/api/v1/datasets/BCHAIN/ETRAV.csv (BTC)\n",
    "    http://www.quandl.com/api/v1/datasets/BCHAIN/ETRVU.csv (USD)\n",
    "\n",
    "####Unzip the package\n",
    "\n",
    "    $: gunzip btceUSD.csv.gz\n"
   ]
  },
  {
   "cell_type": "code",
   "execution_count": 17,
   "metadata": {
    "collapsed": true
   },
   "outputs": [],
   "source": [
    "# Import the necessary shit\n",
    "import pandas as pd\n",
    "import matplotlib.pyplot as plt\n",
    "import matplotlib.dates as dates\n",
    "from matplotlib.dates import DateFormatter, WeekdayLocator, DayLocator, MONDAY\n",
    "\n",
    "# Enable inline plotting\n",
    "%matplotlib inline"
   ]
  },
  {
   "cell_type": "code",
   "execution_count": 18,
   "metadata": {
    "collapsed": false
   },
   "outputs": [],
   "source": [
    "# Loading the Bitcoin PRICE data\n",
    "# Format:\n",
    "# EPOCH_TIMESTAMP, PRICE_VALUE, NO_FUCKING_CLUE\n",
    "data_location = r'_raw_data/b7USD.csv'\n",
    "# reading the CSV file while specifying headers (with the param names), \n",
    "# because there aren't any in those csv files\n",
    "raw_price_data = pd.read_csv(data_location, names=['TimeStamp', 'Price', 'RandV'])\n",
    "\n",
    "# Loading Bitcoin Transactions Volume Data (in BTC)\n",
    "data_location = r'_raw_data/trans_volumes/BCHAIN-ETRAV.csv'\n",
    "raw_trans_vol = pd.read_csv(data_location)"
   ]
  },
  {
   "cell_type": "code",
   "execution_count": 19,
   "metadata": {
    "collapsed": false
   },
   "outputs": [
    {
     "data": {
      "text/plain": [
       "TimeStamp    5492\n",
       "Price        5492\n",
       "RandV        5492\n",
       "dtype: int64"
      ]
     },
     "execution_count": 19,
     "metadata": {},
     "output_type": "execute_result"
    }
   ],
   "source": [
    "raw_price_data.count()"
   ]
  },
  {
   "cell_type": "code",
   "execution_count": 20,
   "metadata": {
    "collapsed": false
   },
   "outputs": [
    {
     "data": {
      "text/plain": [
       "Date     2269\n",
       "Value    2269\n",
       "dtype: int64"
      ]
     },
     "execution_count": 20,
     "metadata": {},
     "output_type": "execute_result"
    }
   ],
   "source": [
    "raw_trans_vol.count()"
   ]
  },
  {
   "cell_type": "code",
   "execution_count": 21,
   "metadata": {
    "collapsed": false
   },
   "outputs": [],
   "source": [
    "# Add a new column DateTime that contains\n",
    "# formatted date/time based on the Epoch \n",
    "# TimeStamp provided in the data set\n",
    "# raw_data['DateTime'] = raw_data['TimeStamp'].apply(lambda x: time.strftime('%d-%m-%Y %H:%M:%S',  time.gmtime(x)))\n",
    "\n",
    "# Another more efficient way of doing the \n",
    "# Timestamp to formatted date conversion\n",
    "# unit='s' is to specify that the timestamp \n",
    "# was stored with the seconds unit\n",
    "raw_price_data['Date'] = pd.to_datetime(raw_price_data['TimeStamp'], unit='s')\n",
    "\n",
    "# Reset time to 00:00:00 useful in the next segment\n",
    "# to remove all prices within a given day and leave \n",
    "# the last price value\n",
    "raw_price_data['Date'] = raw_price_data['Date'].apply(pd.datetools.normalize_date)\n",
    "\n",
    "# Keep last value only for each day (remove all other duplicates)\n",
    "# The search for duplicates is done on the Date column\n",
    "# inplace instructs the kernel not to create a copy\n",
    "raw_price_data.drop_duplicates('Date', take_last=1, inplace=1)\n",
    "\n",
    "# Sort all the data now by DESC order\n",
    "# raw_price_data.sort('Date', ascending=1, inplace=1)\n",
    "\n",
    "# Change the Date column type from object(default)\n",
    "# to datetime\n",
    "raw_trans_vol['Date'] = pd.to_datetime(raw_trans_vol['Date'])\n",
    "\n",
    "# Sort all the data now by DESC order\n",
    "raw_trans_vol.sort('Date', ascending=1, inplace=1)"
   ]
  },
  {
   "cell_type": "code",
   "execution_count": 22,
   "metadata": {
    "collapsed": false
   },
   "outputs": [
    {
     "data": {
      "text/html": [
       "<div style=\"max-height:1000px;max-width:1500px;overflow:auto;\">\n",
       "<table border=\"1\" class=\"dataframe\">\n",
       "  <thead>\n",
       "    <tr style=\"text-align: right;\">\n",
       "      <th></th>\n",
       "      <th>Price</th>\n",
       "    </tr>\n",
       "    <tr>\n",
       "      <th>Date</th>\n",
       "      <th></th>\n",
       "    </tr>\n",
       "  </thead>\n",
       "  <tbody>\n",
       "    <tr>\n",
       "      <th>2011-07-01</th>\n",
       "      <td> 15.40</td>\n",
       "    </tr>\n",
       "    <tr>\n",
       "      <th>2011-07-02</th>\n",
       "      <td> 14.63</td>\n",
       "    </tr>\n",
       "    <tr>\n",
       "      <th>2011-07-03</th>\n",
       "      <td> 15.27</td>\n",
       "    </tr>\n",
       "    <tr>\n",
       "      <th>2011-07-04</th>\n",
       "      <td> 14.50</td>\n",
       "    </tr>\n",
       "    <tr>\n",
       "      <th>2011-07-05</th>\n",
       "      <td> 12.40</td>\n",
       "    </tr>\n",
       "  </tbody>\n",
       "</table>\n",
       "<p>5 rows × 1 columns</p>\n",
       "</div>"
      ],
      "text/plain": [
       "            Price\n",
       "Date             \n",
       "2011-07-01  15.40\n",
       "2011-07-02  14.63\n",
       "2011-07-03  15.27\n",
       "2011-07-04  14.50\n",
       "2011-07-05  12.40\n",
       "\n",
       "[5 rows x 1 columns]"
      ]
     },
     "execution_count": 22,
     "metadata": {},
     "output_type": "execute_result"
    }
   ],
   "source": [
    "# Creating a DataFrame from the Bitcoin price raw data\n",
    "btcp_df = pd.DataFrame(raw_price_data, columns=['Date', 'Price'])\n",
    "\n",
    "# Limit the Price to a range\n",
    "btcp_priceSlice_df = btcp_df[(btcp_df['Date'] >= pd.datetime(2011,7,1))\n",
    "                           & (btcp_df['Date'] <= pd.datetime(2011,10,6))]\n",
    "\n",
    "# Set index\n",
    "btcp_priceSlice_df = btcp_priceSlice_df.set_index('Date')\n",
    "\n",
    "btcp_priceSlice_df.head()"
   ]
  },
  {
   "cell_type": "code",
   "execution_count": 25,
   "metadata": {
    "collapsed": false
   },
   "outputs": [
    {
     "data": {
      "text/html": [
       "<div style=\"max-height:1000px;max-width:1500px;overflow:auto;\">\n",
       "<table border=\"1\" class=\"dataframe\">\n",
       "  <thead>\n",
       "    <tr style=\"text-align: right;\">\n",
       "      <th></th>\n",
       "      <th>Volume</th>\n",
       "    </tr>\n",
       "    <tr>\n",
       "      <th>Date</th>\n",
       "      <th></th>\n",
       "    </tr>\n",
       "  </thead>\n",
       "  <tbody>\n",
       "    <tr>\n",
       "      <th>2011-07-01</th>\n",
       "      <td> 101842</td>\n",
       "    </tr>\n",
       "    <tr>\n",
       "      <th>2011-07-02</th>\n",
       "      <td>  91032</td>\n",
       "    </tr>\n",
       "    <tr>\n",
       "      <th>2011-07-03</th>\n",
       "      <td>  44020</td>\n",
       "    </tr>\n",
       "    <tr>\n",
       "      <th>2011-07-04</th>\n",
       "      <td>  60738</td>\n",
       "    </tr>\n",
       "    <tr>\n",
       "      <th>2011-07-05</th>\n",
       "      <td>  86599</td>\n",
       "    </tr>\n",
       "  </tbody>\n",
       "</table>\n",
       "<p>5 rows × 1 columns</p>\n",
       "</div>"
      ],
      "text/plain": [
       "            Volume\n",
       "Date              \n",
       "2011-07-01  101842\n",
       "2011-07-02   91032\n",
       "2011-07-03   44020\n",
       "2011-07-04   60738\n",
       "2011-07-05   86599\n",
       "\n",
       "[5 rows x 1 columns]"
      ]
     },
     "execution_count": 25,
     "metadata": {},
     "output_type": "execute_result"
    }
   ],
   "source": [
    "# Create a DataFrame from Trans Volume (in BTC) raw data\n",
    "trans_volBTC_df = pd.DataFrame(raw_trans_vol, columns=['Date', 'Value'])\n",
    "\n",
    "# Change column names to Date, Volume\n",
    "trans_volBTC_df.columns = ['Date', 'Volume']\n",
    "\n",
    "# Limit the Transaction Volume Data to a range\n",
    "trans_volBTCSlice_df = trans_volBTC_df[(trans_volBTC_df['Date'] >= pd.datetime(2011,7,1)) \n",
    "                                     & (trans_volBTC_df['Date'] <= pd.datetime(2011,10,5))]\n",
    "\n",
    "# Set index\n",
    "trans_volBTCSlice_df = trans_volBTCSlice_df.set_index('Date')\n",
    "\n",
    "# Show the last 5 values\n",
    "trans_volBTCSlice_df.head()"
   ]
  },
  {
   "cell_type": "code",
   "execution_count": 2,
   "metadata": {
    "collapsed": false
   },
   "outputs": [
    {
     "ename": "NameError",
     "evalue": "name 'plt' is not defined",
     "output_type": "error",
     "traceback": [
      "\u001b[0;31m---------------------------------------------------------------------------\u001b[0m",
      "\u001b[0;31mNameError\u001b[0m                                 Traceback (most recent call last)",
      "\u001b[0;32m<ipython-input-2-976f33441f2c>\u001b[0m in \u001b[0;36m<module>\u001b[0;34m()\u001b[0m\n\u001b[1;32m      1\u001b[0m \u001b[0;31m# Shitload of crap is happening here\u001b[0m\u001b[0;34m\u001b[0m\u001b[0;34m\u001b[0m\u001b[0m\n\u001b[1;32m      2\u001b[0m \u001b[0;31m# all needs to be fixed and cleaned up\u001b[0m\u001b[0;34m\u001b[0m\u001b[0;34m\u001b[0m\u001b[0m\n\u001b[0;32m----> 3\u001b[0;31m \u001b[0mfig\u001b[0m \u001b[0;34m=\u001b[0m \u001b[0mplt\u001b[0m\u001b[0;34m.\u001b[0m\u001b[0mfigure\u001b[0m\u001b[0;34m(\u001b[0m\u001b[0mfigsize\u001b[0m\u001b[0;34m=\u001b[0m\u001b[0;34m(\u001b[0m\u001b[0;36m15\u001b[0m\u001b[0;34m,\u001b[0m \u001b[0;36m10\u001b[0m\u001b[0;34m)\u001b[0m\u001b[0;34m)\u001b[0m\u001b[0;34m\u001b[0m\u001b[0m\n\u001b[0m\u001b[1;32m      4\u001b[0m \u001b[0max\u001b[0m \u001b[0;34m=\u001b[0m \u001b[0mfig\u001b[0m\u001b[0;34m.\u001b[0m\u001b[0madd_subplot\u001b[0m\u001b[0;34m(\u001b[0m\u001b[0;36m1\u001b[0m\u001b[0;34m,\u001b[0m\u001b[0;36m1\u001b[0m\u001b[0;34m,\u001b[0m\u001b[0;36m1\u001b[0m\u001b[0;34m)\u001b[0m\u001b[0;34m\u001b[0m\u001b[0m\n\u001b[1;32m      5\u001b[0m \u001b[0;34m\u001b[0m\u001b[0m\n",
      "\u001b[0;31mNameError\u001b[0m: name 'plt' is not defined"
     ]
    }
   ],
   "source": [
    "# Shitload of crap is happening here\n",
    "# all needs to be fixed and cleaned up\n",
    "fig = plt.figure(figsize=(15, 10))\n",
    "ax = fig.add_subplot(1,1,1)\n",
    "\n",
    "trans_volBTCSlice_df.plot(ax=ax, kind='bar', use_index=True)\n",
    "ax2 = ax.twinx()\n",
    "ax2.plot(ax.get_xticks(), btcp_priceSlice_df.values, color='r', linestyle='-', marker='o', linewidth=1.0)\n",
    "\n",
    "# The below is not working for some reason, need to figure this shit out\n",
    "ax.xaxis.set_major_locator(dates.MonthLocator(bymonth=range(1,13), bymonthday=1, interval=10))\n",
    "ax.xaxis.set_major_formatter(dates.DateFormatter(\"%b '%y\"))\n",
    "\n",
    "# Layout stuff\n",
    "ax.set_title(\"b7 Bitcoin Value in USD\", weight=\"bold\", size=18)\n",
    "ax.set_xlabel(\"Month - Year\", size=14)\n",
    "ax.set_ylabel(\"BTC Transaction Volumes\", size=14)\n",
    "ax2.set_ylabel(\"Bitcoin USD Price\", size=14)\n",
    "\n",
    "# Show \n",
    "plt.show()"
   ]
  }
 ],
 "metadata": {
  "kernelspec": {
   "display_name": "Python 2",
   "language": "python",
   "name": "python2"
  },
  "language_info": {
   "codemirror_mode": {
    "name": "ipython",
    "version": 2
   },
   "file_extension": ".py",
   "mimetype": "text/x-python",
   "name": "python",
   "nbconvert_exporter": "python",
   "pygments_lexer": "ipython2",
   "version": "2.7.9"
  }
 },
 "nbformat": 4,
 "nbformat_minor": 0
}
